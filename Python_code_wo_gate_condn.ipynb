{
 "cells": [
  {
   "cell_type": "code",
   "execution_count": null,
   "metadata": {
    "collapsed": true
   },
   "outputs": [],
   "source": [
    "### creating a list of military time\n",
    "time = []\n",
    "x = 600\n",
    "z =  -1\n",
    "while 600 <= x <=2100:\n",
    "    while z < 59:\n",
    "        z = z + 1\n",
    "        y = x + z\n",
    "        time.append(y)\n",
    "    x = x + 100\n",
    "    z = -1\n",
    "time.append(2200)\n",
    "time"
   ]
  },
  {
   "cell_type": "code",
   "execution_count": null,
   "metadata": {
    "collapsed": true
   },
   "outputs": [],
   "source": [
    "### The following code schedule the flights from AUS, DAL and HOU but it has not considered the considered the condition\n",
    "### on the gates as mentioned in the problem statement."
   ]
  },
  {
   "cell_type": "code",
   "execution_count": null,
   "metadata": {
    "collapsed": true
   },
   "outputs": [],
   "source": [
    "import random \n",
    "import numpy as np\n",
    "import pandas as pd\n",
    "\n",
    "Airport_Dep = ['AUS','DAL','HOU']\n",
    "Airport_Arr = ['AUS','DAL','HOU']\n",
    "Flight = ['T1','T2','T3','T4','T5','T6']\n",
    "Schedule = pd.DataFrame()\n",
    "labels =['Plane','Airport_A','Airport_B','Dep_Time','Arr_Time']\n",
    "\n",
    "\n",
    "for i in Flight:\n",
    "\n",
    "    Plane = i    \n",
    "    Dep_Time = 600\n",
    "    Arr_Time = 0 \n",
    "\n",
    "    if Plane == 'T1':\n",
    "        Airport_A = 'AUS'   \n",
    "    if Plane == 'T2' or Plane == 'T3':\n",
    "        Airport_A = 'DAL'\n",
    "    if Plane == 'T4' or Plane == 'T5' or Plane == 'T6':\n",
    "        Airport_A = 'HOU'\n",
    "\n",
    "\n",
    "        \n",
    "        \n",
    "\n",
    "\n",
    "     \n",
    "    while  Dep_Time in time :\n",
    "### Condition on the flight time\n",
    "            Airport_B = random.choice(Airport_Arr)\n",
    "            if Airport_A != Airport_B:\n",
    "                if Airport_A in ['AUS','DAL'] and Airport_B in ['AUS','DAL']:\n",
    "                    flight_time = 50\n",
    "                elif Airport_A in ['DAL','HOU'] and Airport_B in ['DAL','HOU']:\n",
    "                    flight_time = 65\n",
    "                elif Airport_A in ['AUS','HOU'] and Airport_B in ['AUS','HOU']:\n",
    "                    flight_time = 45\n",
    "### Condition on the ground time\n",
    "\n",
    "                if Airport_A == 'AUS':\n",
    "                    Gate = 1\n",
    "                    Min_Ground_Time = 25\n",
    "                elif Airport_A == 'DAL':\n",
    "                    Gate = 2\n",
    "                    Min_Ground_Time = 30\n",
    "                elif Airport_A == 'HOU':\n",
    "                    Gate = 3\n",
    "                    Min_Ground_Time = 35\n",
    "\n",
    "                if Arr_Time <= 2200:\n",
    "                    Arr_Time = Dep_Time + flight_time\n",
    "                    num = Arr_Time/100\n",
    "                    split_num = str(num).split('.')\n",
    "                    if Arr_Time % 100 > 59:\n",
    "                        Arr_Time = ((int(split_num[0])*100)+ 100 + ((Arr_Time%100)-59))\n",
    "\n",
    "                    Arr_Time = Arr_Time\n",
    "                    d = pd.DataFrame([(Plane,Airport_A,Airport_B,Dep_Time,Arr_Time)],columns=labels)\n",
    "                    Schedule = Schedule.append(d)\n",
    "                    Schedule = Schedule[Schedule.Arr_Time <= 2200]                        \n",
    "                    Dep_Time = Arr_Time + Min_Ground_Time\n",
    "                    num1 = Dep_Time/100\n",
    "                    split_num1 = str(num).split('.')\n",
    "                    if Dep_Time % 100 > 59:\n",
    "                        Dep_Time = ((int(split_num[0])*100)+ 100 + ((Dep_Time%100)-59))\n",
    "\n",
    "\n",
    "            Airport_A = Airport_B\n",
    "Schedule"
   ]
  }
 ],
 "metadata": {
  "kernelspec": {
   "display_name": "Python [default]",
   "language": "python",
   "name": "python3"
  },
  "language_info": {
   "codemirror_mode": {
    "name": "ipython",
    "version": 3
   },
   "file_extension": ".py",
   "mimetype": "text/x-python",
   "name": "python",
   "nbconvert_exporter": "python",
   "pygments_lexer": "ipython3",
   "version": "3.5.2"
  }
 },
 "nbformat": 4,
 "nbformat_minor": 1
}
